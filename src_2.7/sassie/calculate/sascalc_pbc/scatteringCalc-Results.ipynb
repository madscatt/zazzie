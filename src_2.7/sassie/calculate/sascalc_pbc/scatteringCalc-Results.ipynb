{
 "cells": [
  {
   "cell_type": "code",
   "execution_count": null,
   "metadata": {
    "collapsed": false
   },
   "outputs": [],
   "source": [
    "from __future__ import division\n",
    "%matplotlib inline\n",
    "import matplotlib.pyplot as plt\n",
    "import numpy as np\n",
    "import sasmol.sasmol as sasmol\n",
    "from compiledUtils._cLoops import ffi, lib\n",
    "from lennard_gofr import *\n",
    "import matplotlib as mpl\n",
    "from GV import *\n",
    "import cPickle as pickle\n",
    "\n",
    "# Style plots\n",
    "plt.style.use('ggplot')\n",
    "mpl.rcParams['figure.figsize']=(16,9)\n",
    "mpl.rcParams['font.size']=20\n",
    "mpl.rcParams['axes.labelsize']=25\n",
    "mpl.rcParams['axes.titlesize']=25\n",
    "mpl.rcParams['figure.titlesize']=25\n",
    "mol = sasmol.SasMol(0)\n",
    "mol.read_pdb('/home/data/sascalc_pbc/pdbs/run_0.pdb')\n",
    "mol.read_dcd('/home/data/sascalc_pbc/pdbs/run_1.dcd')\n"
   ]
  },
  {
   "cell_type": "code",
   "execution_count": null,
   "metadata": {
    "collapsed": false
   },
   "outputs": [],
   "source": [
    "def getAverage(arr):\n",
    "    if type(arr) is np.ndarray:\n",
    "        return np.mean(arr,axis=0)\n",
    "    elif type(arr) is list:\n",
    "        return np.mean(np.array([i for i in arr]),axis=0)\n",
    "    else:\n",
    "        raise TypeError('arr was not list or ndarry')"
   ]
  },
  {
   "cell_type": "code",
   "execution_count": null,
   "metadata": {
    "collapsed": false
   },
   "outputs": [],
   "source": [
    "exp_I = np.load('/home/data/sascalc_pbc/Outputs/2016-07-16_00-24/outPutI-Q250.npy')\n",
    "exp_Q = np.logspace(-1,1.6,250)"
   ]
  },
  {
   "cell_type": "code",
   "execution_count": null,
   "metadata": {
    "collapsed": false
   },
   "outputs": [],
   "source": [
    "for i in exp_I:\n",
    "    plt.loglog(exp_Q,i,alpha=.15)\n",
    "exp_avg = getAverage(exp_I)\n",
    "plt.loglog(exp_Q,exp_avg,'k-',lw=3,label='Exp Average')\n",
    "plt.legend()\n",
    "plt.ylabel('Intensity')\n",
    "plt.xlabel('Q')\n",
    "plt.xlim([10**-1,10**1.7])\n",
    "plt.show()"
   ]
  },
  {
   "cell_type": "code",
   "execution_count": null,
   "metadata": {
    "collapsed": false
   },
   "outputs": [],
   "source": [
    "debye_I = np.load('/home/data/sascalc_pbc/Outputs/2016-07-19_12-49/outPutI-Q250.npy')\n",
    "debye_Q = np.load('/home/data/sascalc_pbc/Outputs/2016-07-19_12-49/Q_list.npy')\n",
    "debye_avg = getAverage(debye_I)\n",
    "for i in debye_I:\n",
    "    plt.loglog(debye_Q, i,alpha=.15)\n",
    "plt.loglog(debye_Q,debye_avg,'k-',label='Debye Avg',lw=3)\n",
    "plt.legend()\n",
    "plt.ylabel('Intensity')\n",
    "plt.xlabel('Q')\n",
    "plt.show()"
   ]
  },
  {
   "cell_type": "code",
   "execution_count": null,
   "metadata": {
    "collapsed": false
   },
   "outputs": [],
   "source": [
    "plt.loglog(debye_Q,debye_avg,'k-',label='Debye Avg',lw=3)\n",
    "plt.loglog(exp_Q,exp_avg,'-',color='lightskyblue',lw=3,label='Exp Average')\n",
    "plt.legend()\n",
    "plt.ylabel('Intensity')\n",
    "plt.xlabel('Q')\n",
    "plt.show()"
   ]
  },
  {
   "cell_type": "code",
   "execution_count": null,
   "metadata": {
    "collapsed": false
   },
   "outputs": [],
   "source": [
    "def cubeScatt(q, box = 13.4):\n",
    "    from compiledUtils._cube import lib\n",
    "    I_cube = np.zeros_like(q)\n",
    "\n",
    "    for i,Q in enumerate(q):\n",
    "        I_cube[i] = lib.Iq(Q,10,0,box,box,box)\n",
    "    return I_cube\n",
    "box = 13.4\n",
    "I_cube = cubeScatt(exp_Q,box)\n",
    "cut=100\n",
    "plt.loglog(exp_Q[:-cut],(I_cube/I_cube[0]*exp_avg[0])[:-cut],'k-',label='Cube Scattering' ,lw=4)\n",
    "# plt.loglog(exp_Q,exp_avg,label='Exp Average')\n",
    "plt.loglog(debye_Q,debye_avg,'--',label='Calculated Scattering',color='#d82526',lw=4)\n",
    "\n",
    "plt.ylabel('Intensity')\n",
    "plt.xlabel('Q')\n",
    "plt.xlim([2*3.14/13.4,10**1.7])\n",
    "plt.ylim([10**1.5,10**5])\n",
    "plt.legend()"
   ]
  },
  {
   "cell_type": "code",
   "execution_count": null,
   "metadata": {
    "collapsed": false
   },
   "outputs": [],
   "source": [
    "I_cube = cubeScatt(debye_Q,box)\n",
    "I_cube *= debye_avg[0]/I_cube[0]\n",
    "plt.loglog(debye_Q,I_cube)\n",
    "plt.loglog(debye_Q,debye_avg)\n",
    "plt.ylabel('Intensity')\n",
    "plt.xlabel('Q')\n"
   ]
  },
  {
   "cell_type": "markdown",
   "metadata": {},
   "source": [
    "# Fit Debye"
   ]
  },
  {
   "cell_type": "code",
   "execution_count": null,
   "metadata": {
    "collapsed": false
   },
   "outputs": [],
   "source": [
    "def myResids(res,Q,full_data):\n",
    "    cut = len(full_data)-len(res.data)\n",
    "    fig = plt.figure()\n",
    "    gs = plt.GridSpec(nrows=3, ncols=1, height_ratios=[1, 1, 4])\n",
    "    ax_res = fig.add_subplot(gs[0])\n",
    "    ax_res_log = fig.add_subplot(gs[1])\n",
    "    ax_fit = fig.add_subplot(gs[2], sharex=ax_res)\n",
    "\n",
    "    ax_res.plot(Q[:-cut],res.eval()-res.data,'ro')\n",
    "    ax_res_log.loglog(Q[:-cut],np.abs(res.eval()-res.data),'ro')\n",
    "    ax_fit.loglog(Q,full_data)\n",
    "    ax_fit.loglog(Q[:-cut],res.best_fit)\n",
    "    padded = np.pad(res.best_fit,(0,cut),'constant',constant_values=0)\n",
    "    ax_fit.loglog(Q,full_data-padded)\n",
    "    plt.show()\n",
    "\n",
    "def doFit(Q,data,cut=80,func=None,pars=None):\n",
    "\n",
    "    from lmfit import Model, Parameters\n",
    "    from warnings import warn\n",
    "    if func is None:\n",
    "        def cubeScatt(q, box = 13.4,bkg=0):\n",
    "            from compiledUtils._cube import lib\n",
    "            I_cube = np.zeros_like(q)\n",
    "\n",
    "            for i,Q in enumerate(q):\n",
    "                I_cube[i] = lib.Iq(Q,10,0,box,box,box)+bkg\n",
    "            return I_cube*data[0]/I_cube[0]\n",
    "        func = cubeScatt\n",
    "        pars = Parameters()\n",
    "        pars.add('box',value=13.4)\n",
    "        #pars.add('bkg',value=min(data[:-cut]))\n",
    "        pars.add('bkg',value=0,vary=False)\n",
    "\n",
    "    mod = Model(func)\n",
    "    if pars is None:\n",
    "        warn(\"parameters may be bad guess\")\n",
    "        plt.show()\n",
    "        pars = mod.make_params()\n",
    "    res = mod.fit(data[:-cut],pars,q=Q[:-cut])#,weights=(1./data[:-cut])*10**4)\n",
    "    fig = res.plot()\n",
    "    ax = fig.gca()\n",
    "    ax.set_yscale('log')\n",
    "    ax.set_xlim([0,max(Q[:-cut])])\n",
    "#     ax.set_ylim([10**1,10**7])\n",
    "    plt.show()\n",
    "    print(res.fit_report())\n",
    "    return res"
   ]
  },
  {
   "cell_type": "code",
   "execution_count": null,
   "metadata": {
    "collapsed": false
   },
   "outputs": [],
   "source": [
    "def cubeScatt(q, box = 13.4,bkg=0):\n",
    "    from compiledUtils._cube import lib\n",
    "    I_cube = np.zeros_like(q)\n",
    "\n",
    "    for i,Q in enumerate(q):\n",
    "        I_cube[i] = lib.Iq(Q,10,0,box,box,box)+bkg\n",
    "    return I_cube\n",
    "cubeI = cubeScatt(exp_Q,box=13.2837,bkg=0)\n",
    "plt.loglog(exp_Q,exp_avg)\n",
    "plt.loglog(exp_Q,cubeI*exp_avg[0]/cubeI[0])\n",
    "plt.loglog(exp_Q,exp_avg-cubeI*exp_avg[0]/cubeI[0],lw=4)\n"
   ]
  },
  {
   "cell_type": "code",
   "execution_count": null,
   "metadata": {
    "collapsed": false,
    "scrolled": false
   },
   "outputs": [],
   "source": [
    "exp_avg = getAverage(exp_I[800:])\n",
    "res = doFit(exp_Q,exp_avg,cut=90)\n",
    "myResids(res,exp_Q,exp_avg)\n"
   ]
  },
  {
   "cell_type": "code",
   "execution_count": null,
   "metadata": {
    "collapsed": false
   },
   "outputs": [],
   "source": [
    "cubeI = cubeScatt(exp_Q,box=res.best_values['box'],bkg=0)\n",
    "plt.loglog(debye_Q,exp_avg,'o--',label='exp S(Q)',lw=2)\n",
    "# plt.plot(q,sq/sq[-1],'o--',label='g(r) -> S(Q)',lw=2)\n",
    "# plt.ylim([-50,70])\n",
    "plt.ylabel('Intensity')\n",
    "plt.xlabel('Q')\n",
    "plt.legend()\n",
    "cubeI = cubeScatt(exp_Q,box=res.best_values['box'],bkg=0)\n",
    "plt.loglog(exp_Q,cubeI*exp_avg[0]/cubeI[0],label='cube')\n",
    "plt.plot(exp_Q,exp_avg-cubeI*exp_avg[0]/cubeI[0],'o--',lw=4,label='exp - Cube')\n",
    "plt.legend()\n",
    "plt.ylim([10**2,10**6])"
   ]
  },
  {
   "cell_type": "code",
   "execution_count": null,
   "metadata": {
    "collapsed": false
   },
   "outputs": [],
   "source": [
    "def doFit(Q,data,cut=80,func=None,pars=None):\n",
    "\n",
    "    from lmfit import Model, Parameters\n",
    "    from warnings import warn\n",
    "    if func is None:\n",
    "        def cubeScatt(q, box = 13.4,bkg=0):\n",
    "            from compiledUtils._cube import lib\n",
    "            I_cube = np.zeros_like(q)\n",
    "\n",
    "            for i,Q in enumerate(q):\n",
    "                I_cube[i] = lib.Iq(Q,10,0,box,box,box)+bkg\n",
    "            return I_cube*data[0]/I_cube[0]\n",
    "        func = cubeScatt\n",
    "        pars = Parameters()\n",
    "        pars.add('box',value=13.4)\n",
    "        #pars.add('bkg',value=min(data[:-cut]))\n",
    "        pars.add('bkg',value=0,vary=True)\n",
    "\n",
    "    mod = Model(func)\n",
    "    if pars is None:\n",
    "        warn(\"parameters may be bad guess\")\n",
    "        plt.show()\n",
    "        pars = mod.make_params()\n",
    "    res = mod.fit(data[:-cut],pars,q=Q[:-cut])#,weights=(1./data[:-cut])*10**4)\n",
    "    fig = res.plot()\n",
    "    ax = fig.gca()\n",
    "    ax.set_yscale('log')\n",
    "    ax.set_xlim([0,max(Q[:-cut])])\n",
    "#     ax.set_ylim([10**1,10**7])\n",
    "    plt.show()\n",
    "    print(res.fit_report())\n",
    "    return res\n",
    "exp_avg = getAverage(exp_I[800:])\n",
    "res = doFit(exp_Q,exp_avg,cut=90)\n",
    "myResids(res,exp_Q,exp_avg)\n"
   ]
  },
  {
   "cell_type": "code",
   "execution_count": null,
   "metadata": {
    "collapsed": false
   },
   "outputs": [],
   "source": [
    "debye_avg = getAverage(debye_I[800:])\n",
    "res = doFit(debye_Q,debye_avg)\n",
    "myResids(res,debye_Q,debye_avg)"
   ]
  },
  {
   "cell_type": "code",
   "execution_count": null,
   "metadata": {
    "collapsed": false
   },
   "outputs": [],
   "source": [
    "def cubeScatt(q, box = 13.4):\n",
    "    from compiledUtils._cube import lib\n",
    "    I_cube = np.zeros_like(q)\n",
    "\n",
    "    for i,Q in enumerate(q):\n",
    "        I_cube[i] = lib.Iq(Q,10,0,box,box,box)\n",
    "    return I_cube\n",
    "box = 13.4\n",
    "I_cube = cubeScatt(exp_Q,box)\n",
    "cut=100\n",
    "# plt.loglog(exp_Q[:-cut],(I_cube/I_cube[0]*exp_avg[0])[:-cut]/2048,'-',label='Cube Scattering' ,lw=4)\n",
    "# plt.loglog(exp_Q,exp_avg,label='Exp Average')\n",
    "plt.loglog(debye_Q,debye_avg/2048,'k--',label='S(Q)',color='k',lw=4)\n",
    "q_gr = np.load('/home/data/sascalc_pbc/fourierQ.npy')\n",
    "sq_gr = np.load('/home/data/sascalc_pbc/fourierSQ.npy')\n",
    "plt.plot(q_gr,sq_gr,label='g(r) - > S(Q)',lw=4)\n",
    "plt.ylabel('Intensity')\n",
    "plt.xlabel('Q')\n",
    "plt.xlim([2*3.14/13.4,10**1.7])\n",
    "# plt.ylim([10**1.5,10**5])\n",
    "plt.legend()"
   ]
  },
  {
   "cell_type": "code",
   "execution_count": null,
   "metadata": {
    "collapsed": false
   },
   "outputs": [],
   "source": [
    "def cubeScatt(q, box = 13.4):\n",
    "    from compiledUtils._cube import lib\n",
    "    I_cube = np.zeros_like(q)\n",
    "\n",
    "    for i,Q in enumerate(q):\n",
    "        I_cube[i] = lib.Iq(Q,10,0,box,box,box)\n",
    "    return I_cube\n",
    "box = 13.4\n",
    "I_cube = cubeScatt(exp_Q,box)\n",
    "cut=100\n",
    "plt.loglog(exp_Q[:-cut],(I_cube/I_cube[0]*exp_avg[0])[:-cut]/2048,'-',label='Cube Scattering' ,lw=4)\n",
    "# plt.loglog(exp_Q,exp_avg,label='Exp Average')\n",
    "plt.loglog(debye_Q,debye_avg/2048,'k--',label='S(Q)',color='k',lw=4)\n",
    "\n",
    "plt.ylabel('Intensity')\n",
    "plt.xlabel('Q')\n",
    "plt.xlim([2*3.14/13.4,10**1.7])\n",
    "plt.ylim([10**-1.5,10**2])\n",
    "plt.legend()"
   ]
  },
  {
   "cell_type": "code",
   "execution_count": null,
   "metadata": {
    "collapsed": false
   },
   "outputs": [],
   "source": [
    "cubeI = cubeScatt(exp_Q,box=res.best_values['box'])\n",
    "# plt.plot(q,sq/sq[-1],'o--',label='g(r) -> S(Q)',lw=2)\n",
    "# plt.ylim([-50,70])\n",
    "plt.ylabel('Intensity')\n",
    "plt.xlabel('Q')\n",
    "plt.legend()\n",
    "cubeI = cubeScatt(exp_Q,box=res.best_values['box'])\n",
    "plt.loglog(debye_Q,(cubeI*debye_avg[0]/cubeI[0])/2048,label='Cube Scattering',lw=4)\n",
    "plt.loglog(debye_Q,debye_avg/2048,'k--',label='S(Q)',lw=4)\n",
    "\n",
    "plt.plot(exp_Q,(debye_avg-cubeI*debye_avg[0]/cubeI[0])/2048,'--',lw=4,label='S(Q) - Cube')\n",
    "plt.xlim([2*3.14/13.4,10**1.7])\n",
    "plt.ylim([10**-1.5,10**2])\n",
    "plt.legend()\n",
    "# plt.ylim([10**1,10**6])"
   ]
  },
  {
   "cell_type": "code",
   "execution_count": null,
   "metadata": {
    "collapsed": true
   },
   "outputs": [],
   "source": [
    "cubeI = cubeScatt(exp_Q,box=res.best_values['box'])\n",
    "plt.loglog(debye_Q,debye_avg,'o--',label='debye S(Q)',lw=2)\n",
    "# plt.plot(q,sq/sq[-1],'o--',label='g(r) -> S(Q)',lw=2)\n",
    "# plt.ylim([-50,70])\n",
    "plt.ylabel('Intensity')\n",
    "plt.xlabel('Q')\n",
    "plt.legend()\n",
    "cubeI = cubeScatt(exp_Q,box=res.best_values['box'])\n",
    "plt.loglog(debye_Q,cubeI*debye_avg[0]/cubeI[0],label='Cube Scattering')\n",
    "plt.plot(exp_Q,debye_avg-cubeI*debye_avg[0]/cubeI[0],'o--',lw=4,label='debye - Cube')\n",
    "plt.xlim([2*3.14/13.4,10**2])\n",
    "plt.legend()\n",
    "# plt.ylim([10**2,10**6])"
   ]
  },
  {
   "cell_type": "code",
   "execution_count": null,
   "metadata": {
    "collapsed": false
   },
   "outputs": [],
   "source": [
    "def normINF(x):\n",
    "    return x/x[-1]\n",
    "q = np.load('/home/data/sascalc_pbc/fourierQ.npy')\n",
    "sq = np.load('/home/data/sascalc_pbc/fourierSQ.npy')\n",
    "plt.semilogx(debye_Q,normINF(debye_avg),'o--',label='debye S(Q)',lw=2)\n",
    "\n",
    "plt.ylim([-50,70])\n",
    "plt.ylabel('Intensity Arbitrary Norm two 1')\n",
    "plt.xlabel('Q')\n",
    "plt.legend()\n",
    "cubeI = cubeScatt(exp_Q,box=res.best_values['box'],bkg=0)\n",
    "dbyCub = normINF(debye_avg-cubeI*debye_avg[0]/cubeI[0])\n",
    "pltt = sq*max(dbyCub)/max(sq[15:])\n",
    "plt.plot(q,pltt,'o--',label='g(r) -> S(Q)',lw=2)\n",
    "plt.plot(q,sq/(sq[-1]+60)+1)\n",
    "\n",
    "\n",
    "plt.plot(exp_Q,dbyCub,'o--',lw=4,label='debye - Cube')\n",
    "plt.legend()\n",
    "plt.ylim([0,4])"
   ]
  },
  {
   "cell_type": "code",
   "execution_count": null,
   "metadata": {
    "collapsed": false
   },
   "outputs": [],
   "source": [
    "plt.plot(q,sq/(sq[-1]+60)+1)"
   ]
  },
  {
   "cell_type": "code",
   "execution_count": null,
   "metadata": {
    "collapsed": false
   },
   "outputs": [],
   "source": [
    "q = np.load('/home/data/sascalc_pbc/Outputs/2016-07-22_18-43/Q_list.npy')\n",
    "I = np.load('/home/data/sascalc_pbc/Outputs/2016-07-22_18-43/outPutI-Q200.npy')\n",
    "for i in I:\n",
    "    plt.loglog(q,i,alpha=.15)\n",
    "plt.loglog(q,getAverage(I))\n",
    "print(len(I))"
   ]
  },
  {
   "cell_type": "code",
   "execution_count": null,
   "metadata": {
    "collapsed": false
   },
   "outputs": [],
   "source": [
    "# High Pressure\n",
    "q = np.load('/home/data/sascalc_pbc/Outputs/2016-07-22_16-43/Q_list.npy')\n",
    "I = np.load('/home/data/sascalc_pbc/Outputs/2016-07-22_16-43/outPutI-Q250.npy')\n",
    "for i in I:\n",
    "    plt.loglog(q,i,alpha=.15)\n",
    "plt.loglog(q,getAverage(I),'k-',lw=3)\n",
    "print(len(I))"
   ]
  },
  {
   "cell_type": "code",
   "execution_count": null,
   "metadata": {
    "collapsed": false
   },
   "outputs": [],
   "source": [
    "# low Pressure\n",
    "q = np.load('/home/data/sascalc_pbc/Outputs/2016-07-22_17-40/Q_list.npy')\n",
    "I = np.load('/home/data/sascalc_pbc/Outputs/2016-07-22_17-40/outPutI-Q200.npy')\n",
    "for i in I:\n",
    "    plt.loglog(q,i,alpha=.15)\n",
    "plt.loglog(q,getAverage(I[:-60]))\n",
    "print(len(I))"
   ]
  },
  {
   "cell_type": "code",
   "execution_count": null,
   "metadata": {
    "collapsed": false
   },
   "outputs": [],
   "source": [
    "# p0.9\n",
    "q = np.load('/home/data/sascalc_pbc/Outputs/2016-07-22_17-58/Q_list.npy')\n",
    "I = np.load('/home/data/sascalc_pbc/Outputs/2016-07-22_17-58/outPutI-Q200.npy')\n",
    "for i in I:\n",
    "    plt.loglog(q,i,alpha=.15)\n",
    "plt.loglog(q,getAverage(I[:-60]))\n",
    "print(len(I))"
   ]
  },
  {
   "cell_type": "code",
   "execution_count": null,
   "metadata": {
    "collapsed": false
   },
   "outputs": [],
   "source": [
    "# p1\n",
    "q = np.load('/home/data/sascalc_pbc/Outputs/2016-07-22_18-16/Q_list.npy')\n",
    "I = np.load('/home/data/sascalc_pbc/Outputs/2016-07-22_18-16/outPutI-Q200.npy')\n",
    "for i in I:\n",
    "    plt.loglog(q,i,alpha=.15)\n",
    "plt.loglog(q,getAverage(I[:-60]),'k-')\n",
    "print(len(I))"
   ]
  },
  {
   "cell_type": "code",
   "execution_count": null,
   "metadata": {
    "collapsed": false
   },
   "outputs": [],
   "source": [
    "# 2A\n",
    "#So many frames here. Only using last 5000\n",
    "q = np.load('/home/data/sascalc_pbc/Outputs/2016-07-22_18-41/Q_list.npy')\n",
    "I = np.load('/home/data/sascalc_pbc/Outputs/2016-07-22_18-41/outPutI-Q200.npy')\n",
    "for i in I[95000:]:\n",
    "    plt.loglog(q,i,alpha=.15)\n",
    "plt.loglog(q,getAverage(I[95000:]),'k-')\n",
    "print(len(I))"
   ]
  },
  {
   "cell_type": "code",
   "execution_count": null,
   "metadata": {
    "collapsed": false
   },
   "outputs": [],
   "source": [
    "# 5A\n",
    "#So many frames here. Only using last 5000\n",
    "q = np.load('/home/data/sascalc_pbc/Outputs/2016-07-22_18-42/Q_list.npy')\n",
    "I = np.load('/home/data/sascalc_pbc/Outputs/2016-07-22_18-42/outPutI-Q200.npy')\n",
    "for i in I:\n",
    "    plt.loglog(q,i,alpha=.15)\n",
    "plt.loglog(q,getAverage(I),'k-')\n",
    "print(len(I))"
   ]
  },
  {
   "cell_type": "code",
   "execution_count": null,
   "metadata": {
    "collapsed": false
   },
   "outputs": [],
   "source": [
    "# 8A\n",
    "#So many frames here. Only using last 5000\n",
    "q = np.load('/home/data/sascalc_pbc/Outputs/2016-07-22_18-43/Q_list.npy')\n",
    "I = np.load('/home/data/sascalc_pbc/Outputs/2016-07-22_18-43/outPutI-Q200.npy')\n",
    "for i in I:\n",
    "    plt.loglog(q,i,alpha=.15)\n",
    "plt.loglog(q,getAverage(I),'k-')\n",
    "print(len(I))"
   ]
  },
  {
   "cell_type": "code",
   "execution_count": null,
   "metadata": {
    "collapsed": false
   },
   "outputs": [],
   "source": [
    "# 12A\n",
    "#So many frames here. Only using last 5000\n",
    "q = np.load('/home/data/sascalc_pbc/Outputs/2016-07-22_18-51/Q_list.npy')\n",
    "I = np.load('/home/data/sascalc_pbc/Outputs/2016-07-22_18-51/outPutI-Q200.npy')\n",
    "for i in I:\n",
    "    plt.loglog(q,i,alpha=.15)\n",
    "plt.loglog(q,getAverage(I),'k-')\n",
    "print(len(I))"
   ]
  },
  {
   "cell_type": "code",
   "execution_count": null,
   "metadata": {
    "collapsed": false
   },
   "outputs": [],
   "source": [
    "# 13.4A\n",
    "#So many frames here. Only using last 5000\n",
    "q = np.load('/home/data/sascalc_pbc/Outputs/2016-07-22_19-08/Q_list.npy')\n",
    "I = np.load('/home/data/sascalc_pbc/Outputs/2016-07-22_19-08/outPutI-Q200.npy')\n",
    "for i in I:\n",
    "    plt.loglog(q,i,alpha=.15)\n",
    "plt.loglog(q,getAverage(I),'k-')\n",
    "print(len(I))"
   ]
  },
  {
   "cell_type": "code",
   "execution_count": null,
   "metadata": {
    "collapsed": false
   },
   "outputs": [],
   "source": [
    "cubeI = cubeScatt(exp_Q,box=13.42,bkg=0)\n",
    "plt.loglog(exp_Q,exp_avg,label='exp S(Q)',lw=4)\n",
    "plt.loglog(exp_Q,cubeI*exp_avg[0]/cubeI[0],label='cube',lw=4)\n",
    "plt.loglog(exp_Q,exp_avg-cubeI*exp_avg[0]/cubeI[0],lw=4,label='exp - Cube')\n",
    "plt.legend()\n",
    "plt.ylim([10**2,10**4])\n",
    "plt.xlim([4*np.pi/13,10**2])"
   ]
  },
  {
   "cell_type": "code",
   "execution_count": null,
   "metadata": {
    "collapsed": false
   },
   "outputs": [],
   "source": [
    "cubeI = cubeScatt(exp_Q,box=13.42,bkg=0)\n",
    "plt.loglog(exp_Q,debye_avg,label='debye S(Q)',lw=4)\n",
    "plt.loglog(exp_Q,cubeI*debye_avg[0]/cubeI[0],label='cube',lw=4)\n",
    "plt.loglog(exp_Q,debye_avg-cubeI*debye_avg[0]/cubeI[0],lw=4,label='debye - Cube')\n",
    "plt.legend()\n",
    "plt.ylim([4*np.pi/13,10**6])"
   ]
  },
  {
   "cell_type": "code",
   "execution_count": null,
   "metadata": {
    "collapsed": false
   },
   "outputs": [],
   "source": [
    "fig = plt.figure(figsize=(12,6))\n",
    "cubeI = cubeScatt(exp_Q,box=13.42,bkg=0)\n",
    "plt.plot(exp_Q,debye_avg)\n",
    "plt.plot(exp_Q,cubeI*debye_avg[0]/cubeI[0])\n",
    "plt.plot(exp_Q,debye_avg-cubeI*debye_avg[0]/cubeI[0],lw=4)\n",
    "from bokeh import mpl\n",
    "from bokeh.plotting import show,output_notebook\n",
    "import bokeh\n",
    "output_notebook()\n",
    "show(mpl.to_bokeh())"
   ]
  },
  {
   "cell_type": "markdown",
   "metadata": {
    "collapsed": false
   },
   "source": [
    "# Smaller Cell"
   ]
  },
  {
   "cell_type": "code",
   "execution_count": null,
   "metadata": {
    "collapsed": false
   },
   "outputs": [],
   "source": [
    "shrunkDBY_q = np.load('/home/data/sascalc_pbc/Outputs/2016-07-21_10-35/Q_list.npy')\n",
    "shrunkDBY_I = np.load('/home/data/sascalc_pbc/Outputs/2016-07-21_10-35/outPutI-Q250.npy')\n",
    "\n",
    "for i in shrunkDBY_I:\n",
    "    plt.loglog(shrunkDBY_q,i,alpha=.4)\n",
    "shrunkDBY_avg = getAverage(shrunkDBY_I)\n",
    "plt.loglog(shrunkDBY_q,shrunkDBY_avg,'-k',lw=3)\n",
    "plt.loglog(debye_Q,debye_avg)\n",
    "cube5 = cubeScatt(shrunkDBY_q,box=4.9)\n",
    "plt.loglog(debye_Q,cube5)"
   ]
  },
  {
   "cell_type": "code",
   "execution_count": null,
   "metadata": {
    "collapsed": false,
    "scrolled": false
   },
   "outputs": [],
   "source": [
    "def norm(x):\n",
    "    return x/max(x)\n",
    "res = doFit(shrunkDBY_q,norm(shrunkDBY_avg),cut=90)\n",
    "myResids(res,shrunkDBY_q,norm(shrunkDBY_avg))\n"
   ]
  },
  {
   "cell_type": "code",
   "execution_count": null,
   "metadata": {
    "collapsed": false
   },
   "outputs": [],
   "source": [
    "plt.figure()\n",
    "plt.loglog(shrunkDBY_q,norm(shrunkDBY_avg),lw=4,label='debye')\n",
    "cubeI = norm(cubeScatt(shrunkDBY_q,res.best_values['box']))\n",
    "plt.loglog(shrunkDBY_q,cubeI,label='cube',lw=4)\n",
    "plt.loglog(shrunkDBY_q,norm(shrunkDBY_avg)-cubeI,lw=4,label='subtracted')\n",
    "q = np.load('/home/data/sascalc_pbc/fourierQ.npy')\n",
    "sq = np.load('/home/data/sascalc_pbc/fourierSQ.npy')\n",
    "plt.plot(q,sq/np.mean(sq[:-20][sq[:-20]>0]),'o--',label='g(r) -> S(Q)',lw=2)\n",
    "plt.ylim([10**-4,1.1])\n",
    "plt.title('Shrunk Box')\n",
    "plt.legend()"
   ]
  },
  {
   "cell_type": "markdown",
   "metadata": {
    "collapsed": false
   },
   "source": [
    "# Plot Fourier Transform"
   ]
  },
  {
   "cell_type": "code",
   "execution_count": null,
   "metadata": {
    "collapsed": false
   },
   "outputs": [],
   "source": [
    "q = np.load('/home/data/sascalc_pbc/fourierQ.npy')\n",
    "sq = np.load('/home/data/sascalc_pbc/fourierSQ.npy')\n",
    "plt.plot(debye_Q,debye_avg/debye_avg[-1],'--',label='debye S(Q)',lw=2)\n",
    "plt.plot(q,sq/np.mean(sq[:-20][sq[:-20]>0]),'--',label='g(r) -> S(Q)',lw=2)\n",
    "plt.ylim([0,4])\n",
    "plt.ylabel('Intensity Arbitrary (Plots scaled + shifted)')\n",
    "plt.xlabel('Q')\n",
    "plt.legend()\n",
    "plt.show()"
   ]
  },
  {
   "cell_type": "code",
   "execution_count": null,
   "metadata": {
    "collapsed": false
   },
   "outputs": [],
   "source": [
    "q = np.load('/home/data/sascalc_pbc/fourierQ.npy')\n",
    "sq = np.load('/home/data/sascalc_pbc/fourierSQ.npy')\n",
    "plt.semilogx(debye_Q,debye_avg/debye_avg[-1]*50-20,'o--',label='debye S(Q)',lw=2)\n",
    "plt.plot(q,sq/sq[-1],'o--',label='g(r) -> S(Q)',lw=2)\n",
    "plt.ylim([-50,70])\n",
    "plt.xlim([10**-.5,10**1.7])\n",
    "plt.ylabel('Intensity Arbitrary (Plots scaled + shifted)')\n",
    "plt.xlabel('Q')\n",
    "plt.legend()\n",
    "plt.show()"
   ]
  },
  {
   "cell_type": "code",
   "execution_count": null,
   "metadata": {
    "collapsed": false
   },
   "outputs": [],
   "source": [
    "q = np.load('/home/data/sascalc_pbc/fourierQ.npy')\n",
    "sq = np.load('/home/data/sascalc_pbc/fourierSQ.npy')\n",
    "plt.semilogx(debye_Q,exp_avg/exp_avg[-1]*50-20,'o--',label='exp S(Q)',lw=2)\n",
    "plt.semilogx(debye_Q,debye_avg/debye_avg[-1]*50-20,'o--',label='debye S(Q)',lw=2)\n",
    "\n",
    "plt.plot(q,sq/sq[-1],'o--',label='g(r) -> S(Q)',lw=2)\n",
    "plt.ylim([-50,70])\n",
    "plt.xlim([10**-.5,10**1.7])\n",
    "plt.ylabel('Intensity Arbitrary (Plots scaled + shifted)')\n",
    "plt.xlabel('Q')\n",
    "plt.legend()\n",
    "plt.show()"
   ]
  },
  {
   "cell_type": "code",
   "execution_count": null,
   "metadata": {
    "collapsed": false
   },
   "outputs": [],
   "source": [
    "fig = plt.figure(figsize=(12,6))\n",
    "cubeI = cubeScatt(exp_Q,box=res.best_values['box'],bkg=0)\n",
    "\n",
    "plt.loglog(shrunkDBY_q,shrunkDBY_avg)\n",
    "plt.plot(shrunkDBY_q,cubeI*shrunkDBY_avg[0]/cubeI[0])\n",
    "plt.plot(shrunkDBY_q,shrunkDBY_avg-cubeI*shrunkDBY_avg[0]/cubeI[0],lw=4)\n",
    "plt.ylim([10**0,10**4+20])\n",
    "# show(mpl.to_bokeh())"
   ]
  },
  {
   "cell_type": "code",
   "execution_count": null,
   "metadata": {
    "collapsed": false
   },
   "outputs": [],
   "source": [
    "def cubeScatt(q, box = 13.4,bkg=0):\n",
    "    from compiledUtils._cube import lib\n",
    "    I_cube = np.zeros_like(q)\n",
    "\n",
    "    for i,Q in enumerate(q):\n",
    "        I_cube[i] = lib.Iq(Q,10,0,box,box,box)+bkg\n",
    "    return I_cube*exp_avg[0]/I_cube[0]\n",
    "res = doFit(exp_Q,exp_avg,cut=90)\n",
    "myResids(res,exp_Q,exp_avg)"
   ]
  },
  {
   "cell_type": "code",
   "execution_count": null,
   "metadata": {
    "collapsed": false
   },
   "outputs": [],
   "source": [
    "res = doFit(debye_Q,debye_avg)\n",
    "myResids(res,debye_Q,debye_avg)"
   ]
  },
  {
   "cell_type": "markdown",
   "metadata": {},
   "source": [
    "# Different Average Slices"
   ]
  },
  {
   "cell_type": "code",
   "execution_count": null,
   "metadata": {
    "collapsed": false
   },
   "outputs": [],
   "source": [
    "# for ct in [200,400,600]:\n",
    "for ct in [10,40,990]:\n",
    "    plt.loglog(exp_Q,getAverage(exp_I[ct:]),label=ct)\n",
    "    plt.loglog(debye_Q,getAverage(debye_I[ct:]),lw=2,label='debye: '+str(ct))\n",
    "plt.legend()"
   ]
  },
  {
   "cell_type": "code",
   "execution_count": null,
   "metadata": {
    "collapsed": false
   },
   "outputs": [],
   "source": [
    "# for ct in [200,400,600]:\n",
    "frame_ranges = [[0,200], [200, 400], [400, 600], [600, 800], [800, 1000]]\n",
    "for frame_range in frame_ranges:\n",
    "    plt.loglog(exp_Q,getAverage(exp_I[frame_range[0]:frame_range[1]]),label=frame_range[1])\n",
    "plt.legend()\n",
    "plt.figure()\n",
    "for frame_range in frame_ranges:\n",
    "    plt.loglog(debye_Q,getAverage(debye_I[frame_range[0]:frame_range[1]]),lw=2,label='debye: {}'.format(frame_range[1]))\n",
    "plt.legend()"
   ]
  },
  {
   "cell_type": "code",
   "execution_count": null,
   "metadata": {
    "collapsed": false
   },
   "outputs": [],
   "source": [
    "# for ct in [200,400,600]:\n",
    "frame_ranges = [[400, 600], [600, 800], [800, 1000]]\n",
    "for frame_range in frame_ranges:\n",
    "    plt.loglog(exp_Q,getAverage(exp_I[frame_range[0]:frame_range[1]]),label=frame_range[1])\n",
    "    plt.loglog(debye_Q,getAverage(debye_I[frame_range[0]:frame_range[1]]),lw=2,label='debye: {}'.format(frame_range[1]))\n",
    "plt.legend()"
   ]
  },
  {
   "cell_type": "code",
   "execution_count": null,
   "metadata": {
    "collapsed": false
   },
   "outputs": [],
   "source": [
    "def decay(Q,Qmin,Qmax):\n",
    "    output=np.zeros_like(Q)\n",
    "\n",
    "    numer = -(Qmin-Q)**2*(Qmin+2*Q-3*Qmax)\n",
    "    denom = (Qmax-Qmin)**3\n",
    "    output = numer/denom\n",
    "    \n",
    "\n",
    "    output[Q<Qmin] = 0\n",
    "    output[Q>Qmax] = 1\n",
    "    return output\n",
    "x = np.linspace(0,10,200)\n",
    "y = decay(x,Qmin=2,Qmax=7)\n",
    "plt.plot(x,y)\n",
    "# plt.ylim([-.1,1.1])"
   ]
  },
  {
   "cell_type": "code",
   "execution_count": null,
   "metadata": {
    "collapsed": false
   },
   "outputs": [],
   "source": [
    "plt.plot(shrunkDBY_q,shrunkDBY_avg)\n",
    "minV = 3\n",
    "maxV = 5\n",
    "plt.plot(shrunkDBY_q,shrunkDBY_avg)\n",
    "plt.plot(shrunkDBY_q,decay(shrunkDBY_q,minV,maxV)*100)\n",
    "plt.plot(shrunkDBY_q,shrunkDBY_avg*decay(shrunkDBY_q,minV,maxV))\n",
    "plt.ylim([-.1,500])\n",
    "plt.plot((minV,minV), (0, 200), 'k-') "
   ]
  },
  {
   "cell_type": "code",
   "execution_count": null,
   "metadata": {
    "collapsed": false
   },
   "outputs": [],
   "source": [
    "mol.coor()[-1]"
   ]
  },
  {
   "cell_type": "code",
   "execution_count": null,
   "metadata": {
    "collapsed": false
   },
   "outputs": [],
   "source": [
    "# for ct in [200,400,600]:\n",
    "frame_ranges = [[700, 1000], [800, 1000], [900, 1000]]\n",
    "for frame_range in frame_ranges:\n",
    "    plt.loglog(exp_Q,getAverage(exp_I[frame_range[0]:frame_range[1]]),label=frame_range[0])\n",
    "    plt.loglog(debye_Q,getAverage(debye_I[frame_range[0]:frame_range[1]]),lw=2,label='debye: {}'.format(frame_range[0]))\n",
    "plt.legend()"
   ]
  },
  {
   "cell_type": "code",
   "execution_count": null,
   "metadata": {
    "collapsed": false
   },
   "outputs": [],
   "source": [
    "# for ct in [200,400,600]:\n",
    "frame_ranges = [[700, 1000]]\n",
    "for frame_range in frame_ranges:\n",
    "    plt.loglog(exp_Q,getAverage(exp_I[frame_range[0]:frame_range[1]]),label=frame_range[0])\n",
    "    plt.loglog(debye_Q,getAverage(debye_I[frame_range[0]:frame_range[1]]),lw=2,label='debye: {}'.format(frame_range[0]))\n",
    "plt.legend()"
   ]
  },
  {
   "cell_type": "code",
   "execution_count": null,
   "metadata": {
    "collapsed": false
   },
   "outputs": [],
   "source": [
    "from matplotlib.ticker import MultipleLocator, FormatStrFormatter\n",
    "minorLocator = MultipleLocator(20)\n",
    "delta = []\n",
    "prev = getAverage(exp_I[1:])\n",
    "end = 600\n",
    "for i in xrange(2,end):\n",
    "    new = getAverage(exp_I[i:])\n",
    "    delta.append(sum(abs(prev-new)))\n",
    "    prev = new.copy()\n",
    "plt.plot(range(2,end),delta)\n",
    "ax = plt.gca()\n",
    "ax.xaxis.set_minor_locator(minorLocator)\n",
    "\n",
    "plt.xlabel('Number Frames eliminated')\n",
    "plt.ylabel('Abs of delta change from one cut to next')"
   ]
  },
  {
   "cell_type": "code",
   "execution_count": null,
   "metadata": {
    "collapsed": false
   },
   "outputs": [],
   "source": [
    "delta = []\n",
    "\n",
    "end = 997\n",
    "for i in xrange(2,end):\n",
    "    new = getAverage(exp_I[i:])\n",
    "    delta.append(sum(abs(debye_I[-2]-new)))\n",
    "plt.plot(range(2,end),delta)\n",
    "ax = plt.gca()\n",
    "ax.xaxis.set_minor_locator(minorLocator)"
   ]
  },
  {
   "cell_type": "markdown",
   "metadata": {},
   "source": [
    "# Variations on cube scattering"
   ]
  },
  {
   "cell_type": "code",
   "execution_count": null,
   "metadata": {
    "collapsed": false
   },
   "outputs": [],
   "source": [
    "def cubeScatt(q,sld=10, box = 13.4,box2=6,bkg=0):#,box1w=1,box2w=.5):\n",
    "    from compiledUtils._cube import lib\n",
    "    I_cube = np.zeros_like(q)\n",
    "\n",
    "    for i,Q in enumerate(q):\n",
    "#         I_cube[i] = box1w*lib.Iq(Q,10,0,box,box,box)+box2w*lib.Iq(Q,10,0,box2,box2,box2)\n",
    "        I_cube[i] = lib.Iq(Q,sld,0,box,box,box)+lib.Iq(Q,10,0,box2,box2,box2)+bkg\n",
    "    return I_cube\n",
    "\n",
    "cubeI = cubeScatt(exp_Q,10)\n",
    "plt.loglog(exp_Q,cubeI,label='sld=10')\n",
    "cubeI = cubeScatt(exp_Q,20)\n",
    "plt.loglog(exp_Q,cubeI,label='sld=20')\n",
    "cubeI = cubeScatt(exp_Q,100,bkg=10**1)\n",
    "plt.loglog(exp_Q,cubeI,label='sld=100, bkg=10^1')\n",
    "# plt.ylim([10**2,10**7])\n",
    "plt.loglog(exp_Q,[10**1]*len(exp_Q),label='bkg')\n",
    "plt.legend()\n"
   ]
  },
  {
   "cell_type": "code",
   "execution_count": null,
   "metadata": {
    "collapsed": false
   },
   "outputs": [],
   "source": [
    "import numexpr as ne\n",
    "import periodictable.cromermann as ptc\n",
    "\n",
    "def pairwise_numpy(X):\n",
    "    return np.sqrt(((X[:, None, :] - X) ** 2).sum(-1))\n",
    "def neSinc(x):\n",
    "    a = ne.evaluate(\"sin(x)/x\")\n",
    "    indices=np.isnan(a)\n",
    "    a[np.isnan(a)] = 1 - (x[indices]**2)/6 + (x[indices]**4)/120\n",
    "    return a\n",
    "coor = mol.coor()[-2]\n",
    "pw = pairwise_numpy(coor)\n",
    "Q_list  = np.logspace(-1,1.6,250)\n",
    "I  = np.zeros_like(Q_list)\n",
    "sld  = np.square(ptc.fxrayatq('Ar',Q_list))\n",
    "\n",
    "for i,q in enumerate(Q_list):\n",
    "    if(i%100==0): print (i)\n",
    "    I[i] = np.sum(neSinc(q*pw))\n",
    "plt.loglog(Q_list,I,alpha=.5)\n",
    "plt.ylabel('Intensity')\n",
    "plt.xlabel('Q')"
   ]
  },
  {
   "cell_type": "code",
   "execution_count": null,
   "metadata": {
    "collapsed": false
   },
   "outputs": [],
   "source": [
    "def neSinc(x):\n",
    "    a = ne.evaluate(\"sin(x)/x\")\n",
    "    indices=np.isnan(a)\n",
    "    a[np.isnan(a)] = 1 - (x[indices]**2)/6 + (x[indices]**4)/120\n",
    "    return a\n",
    "neSinc(np.array([0.001]))"
   ]
  },
  {
   "cell_type": "code",
   "execution_count": null,
   "metadata": {
    "collapsed": false
   },
   "outputs": [],
   "source": [
    "Qs  = np.logspace(-1,1.6,150)\n",
    "def neSinc(x):\n",
    "    x = np.asanyarray(x)\n",
    "    y = np.where(x == 0, 1.0e-20, x)\n",
    "    return  ne.evaluate(\"sin(y)/y\")\n",
    "#     indices=np.isnan(a)\n",
    "#     a[np.isnan(a)] = 1 - (x[indices]**2)/6 + (x[indices]**4)/120\n",
    "#     return a\n",
    "# y = pi * where(x == 0, 1.0e-20, x)\n",
    "def neLoop(Q):\n",
    "    I  = np.zeros_like(Q)\n",
    "    for i,q in enumerate(Q):\n",
    "#         if(i%100==0): print (i)\n",
    "        I[i] = np.sum(neSinc(q*pw))\n",
    "    return I\n",
    "def npLoop(Q):\n",
    "    I  = np.zeros_like(Q)\n",
    "    for i,q in enumerate(Q):\n",
    "#         if(i%100==0): print (i)\n",
    "        I[i] = np.sum(np.sinc(q*pw/np.pi))\n",
    "    return I\n",
    "\n",
    "def neDebye(coor,Qs):\n",
    "    return _debye(coor,Qs)\n",
    "def npDebye():\n",
    "    \"\"\"\n",
    "    Slower than neDebye. Only diff is e-13 precision\n",
    "    \"\"\"\n",
    "    return _debye(coor,Qs,False)\n",
    "    \n",
    "def _debye(coor, Qs,useNe=True):\n",
    "    I = np.zeros((len(coor),len(Qs))) #frames,Qs\n",
    "    if(useNe):\n",
    "        for frame, dist in enumerate(coor):\n",
    "            pw = pairwise_numpy(dist)\n",
    "            for i,q in enumerate(Qs):\n",
    "                I[frame][i] = np.sum(neSinc(q*pw))\n",
    "    else:\n",
    "        for frame, dist in enumerate(coor):\n",
    "            pw = pairwise_numpy(dist)\n",
    "            for i,q in enumerate(Qs):\n",
    "                I[frame][i] = np.sum(np.sin(q*pw/np.pi))\n",
    "    return I\n",
    "neSinc(0)\n",
    "# I_dby_ne = neDebye(mol.coor()[990:995],Qs)\n",
    "# for i in I_dby_ne:\n",
    "#     plt.loglog(Qs,i)"
   ]
  },
  {
   "cell_type": "code",
   "execution_count": null,
   "metadata": {
    "collapsed": false
   },
   "outputs": [],
   "source": [
    "%timeit neLoop(Qs)"
   ]
  },
  {
   "cell_type": "code",
   "execution_count": null,
   "metadata": {
    "collapsed": false
   },
   "outputs": [],
   "source": [
    "%timeit npLoop(Qs)"
   ]
  },
  {
   "cell_type": "code",
   "execution_count": null,
   "metadata": {
    "collapsed": false
   },
   "outputs": [],
   "source": [
    "neRes = neLoop(Qs)\n",
    "npRes = npLoop(Qs)"
   ]
  },
  {
   "cell_type": "code",
   "execution_count": null,
   "metadata": {
    "collapsed": false
   },
   "outputs": [],
   "source": [
    "print(np.array_equal(npRes,neRes))\n",
    "print(np.array_equiv(npRes,neRes))\n",
    "print(np.isclose(npRes,neRes))\n",
    "def avg(a,b):\n",
    "    return (a+b)/2\n",
    "print((npRes-neRes)/avg(npRes,neRes))"
   ]
  },
  {
   "cell_type": "code",
   "execution_count": null,
   "metadata": {
    "collapsed": false
   },
   "outputs": [],
   "source": [
    "q,i  = np.loadtxt('/home/data/sascalc_pbc/results_GVVV_python/shrunk-arg-6_gv149.iq',unpack=True)\n",
    "plt.loglog(q,i)\n",
    "plt.ylabel('Intensity')\n",
    "plt.xlabel('Q')\n",
    "plt.show()"
   ]
  },
  {
   "cell_type": "code",
   "execution_count": null,
   "metadata": {
    "collapsed": false
   },
   "outputs": [],
   "source": [
    "q,i  = np.loadtxt('/home/data/sascalc_pbc/results_GVVV_python/shrunk-arg-6-debye.iq',unpack=True)\n",
    "plt.loglog(q,i)\n",
    "plt.ylabel('Intensity')\n",
    "plt.xlabel('Q')\n",
    "plt.show()"
   ]
  },
  {
   "cell_type": "code",
   "execution_count": null,
   "metadata": {
    "collapsed": false
   },
   "outputs": [],
   "source": [
    "debye_I = np.load('/home/data/sascalc_pbc/Outputs/2016-07-22_16-43/outPutI-Q250.npy')\n",
    "debye_Q = np.load('/home/data/sascalc_pbc/Outputs/2016-07-22_16-43/Q_list.npy')\n",
    "debye_avg = getAverage(debye_I)\n",
    "for i in debye_I:\n",
    "    plt.loglog(debye_Q, i,alpha=.15)\n",
    "plt.loglog(debye_Q,debye_avg,'k-',label='2095 Bar',lw=3)\n",
    "plt.legend()\n",
    "plt.ylabel('Intensity')\n",
    "plt.xlabel('Q')\n",
    "plt.show()"
   ]
  },
  {
   "cell_type": "code",
   "execution_count": null,
   "metadata": {
    "collapsed": false
   },
   "outputs": [],
   "source": [
    "\n",
    "argLys_Q, argLys_I  = np.loadtxt('/home/data/sascalc_pbc/results_GVVV_python/argLys_run0.iq',unpack=True,\n",
    "                             usecols=[0,1])\n",
    "\n",
    "\n",
    "plt.loglog(argLys_Q,argLys_I,'k-',label='2095 Bar',lw=3)\n",
    "plt.legend()\n",
    "plt.ylabel('Intensity')\n",
    "plt.xlabel('Q($\\AA^{-1}$)')\n",
    "plt.show()"
   ]
  },
  {
   "cell_type": "code",
   "execution_count": null,
   "metadata": {
    "collapsed": true
   },
   "outputs": [],
   "source": []
  }
 ],
 "metadata": {
  "kernelspec": {
   "display_name": "Python 2",
   "language": "python",
   "name": "python2"
  },
  "language_info": {
   "codemirror_mode": {
    "name": "ipython",
    "version": 2
   },
   "file_extension": ".py",
   "mimetype": "text/x-python",
   "name": "python",
   "nbconvert_exporter": "python",
   "pygments_lexer": "ipython2",
   "version": "2.7.11"
  }
 },
 "nbformat": 4,
 "nbformat_minor": 0
}
