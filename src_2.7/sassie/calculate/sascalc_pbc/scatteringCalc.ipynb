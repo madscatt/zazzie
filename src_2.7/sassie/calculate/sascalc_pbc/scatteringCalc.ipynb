{
 "cells": [
  {
   "cell_type": "markdown",
   "metadata": {},
   "source": [
    "# This file is legacy\n",
    "\n",
    "Use the scatteringCalc.py or debye.py or multiJob_debye.py instead"
   ]
  },
  {
   "cell_type": "code",
   "execution_count": null,
   "metadata": {
    "collapsed": false
   },
   "outputs": [],
   "source": [
    "from __future__ import division\n",
    "%matplotlib inline\n",
    "import matplotlib.pyplot as plt\n",
    "import numpy as np\n",
    "import sasmol.sasmol as sasmol\n",
    "from compiledUtils._cLoops import ffi, lib\n",
    "from lennard_gofr import *\n",
    "import matplotlib as mpl\n",
    "from GV import *\n",
    "import cPickle as pickle\n",
    "\n",
    "# Style plots\n",
    "plt.style.use('ggplot')\n",
    "mpl.rcParams['figure.figsize']=(16,9)\n",
    "mpl.rcParams['font.size']=20\n",
    "mpl.rcParams['axes.labelsize']=25\n",
    "mpl.rcParams['axes.titlesize']=25\n",
    "mpl.rcParams['figure.titlesize']=25"
   ]
  },
  {
   "cell_type": "markdown",
   "metadata": {},
   "source": [
    "# Calculate g(r)"
   ]
  },
  {
   "cell_type": "code",
   "execution_count": null,
   "metadata": {
    "collapsed": false
   },
   "outputs": [],
   "source": [
    "mol = sasmol.SasMol(0)\n",
    "mol.read_pdb('/home/data/sascalc_pbc/pdbs/run_0.pdb')\n",
    "mol.read_dcd('/home/data/sascalc_pbc/pdbs/run_1.dcd')\n",
    "\n",
    "gc = gofr_calc(mol)\n",
    "\n",
    "\n",
    "for i in xrange(901,910):\n",
    "    if i%50==0: print(str(i))\n",
    "    gc.g_hist(i)\n",
    "hist = np.copy(gc.g)\n",
    "r,gr = gc.g_of_r()\n",
    "plt.xlabel(r'r ($\\AA}$)')\n",
    "plt.ylabel('g(r)')\n",
    "ax = plt.gca()\n",
    "# plt.title('g(r) full argon sim')\n",
    "\n",
    "plt.plot(r,gr)\n",
    "plt.show()\n"
   ]
  },
  {
   "cell_type": "markdown",
   "metadata": {},
   "source": [
    "# Calculate Scattering Averaged over frames"
   ]
  },
  {
   "cell_type": "markdown",
   "metadata": {},
   "source": [
    "### Utility Function"
   ]
  },
  {
   "cell_type": "code",
   "execution_count": null,
   "metadata": {
    "collapsed": true
   },
   "outputs": [],
   "source": [
    "def cast_matrix(matrix, ffi):\n",
    "    ap = ffi.new(\"double* [%d]\" % (matrix.shape[0]))\n",
    "    ptr = ffi.cast(\"double *\", matrix.ctypes.data)\n",
    "    for i in range(matrix.shape[0]):\n",
    "        ap[i] = ptr + i*matrix.shape[1]                                                                \n",
    "    return ap "
   ]
  },
  {
   "cell_type": "markdown",
   "metadata": {},
   "source": [
    "### Settings"
   ]
  },
  {
   "cell_type": "code",
   "execution_count": null,
   "metadata": {
    "collapsed": false,
    "scrolled": true
   },
   "outputs": [],
   "source": [
    "startFrame = 1\n",
    "endFrame   =  -1 #-1 = use all\n",
    "NUM_Q      = 10\n",
    "START_Q    = -1\n",
    "END_Q      = 1.6\n",
    "N_GV       = 35\n",
    "gv = GV(N_GV).get_golden_vectors()\n",
    "Q_list = np.logspace(START_Q,END_Q,NUM_Q)\n",
    "\n",
    "import datetime\n",
    "print(datetime.datetime.now())"
   ]
  },
  {
   "cell_type": "code",
   "execution_count": null,
   "metadata": {
    "collapsed": false
   },
   "outputs": [],
   "source": [
    "coor=mol.coor()[startFrame:endFrame]\n",
    "num = len(coor[0])\n",
    "\n",
    "# I = np.zeros((len(coor),len(Q_list)))\n",
    "for frame in xrange(len(coor)):\n",
    "    if(frame%50==0):\n",
    "        print(frame)\n",
    "    for i,Q in enumerate(Q_list):\n",
    "        I_tmp = 0\n",
    "        for g in gv:\n",
    "            q=g*Q\n",
    "            cast_coor = cast_matrix(coor[frame],ffi)\n",
    "            cast_q = ffi.cast('double*',q.ctypes.data)\n",
    "            I_tmp += lib.sQ(cast_coor,cast_q,num,num)\n",
    "        I[frame][i] = I_tmp/len(gv)\n",
    "# pickle.dump( I, open( \"multiFrame\", \"wb\" ) )\n",
    "print(datetime.datetime.now())"
   ]
  },
  {
   "cell_type": "code",
   "execution_count": null,
   "metadata": {
    "collapsed": false
   },
   "outputs": [],
   "source": [
    "plt.loglog(Q_list,I[0])"
   ]
  },
  {
   "cell_type": "code",
   "execution_count": null,
   "metadata": {
    "collapsed": false
   },
   "outputs": [],
   "source": [
    "I"
   ]
  },
  {
   "cell_type": "code",
   "execution_count": null,
   "metadata": {
    "collapsed": true
   },
   "outputs": [],
   "source": [
    "pickle.dump( I, open( \"multiFrame\", \"wb\" ) )"
   ]
  },
  {
   "cell_type": "code",
   "execution_count": null,
   "metadata": {
    "collapsed": false
   },
   "outputs": [],
   "source": [
    "a=pickle.load(open('multiFrame10-allFrames','rb'))\n",
    "a"
   ]
  },
  {
   "cell_type": "code",
   "execution_count": null,
   "metadata": {
    "collapsed": false,
    "scrolled": true
   },
   "outputs": [],
   "source": [
    "startFrame = 1\n",
    "endFrame   =  -1 #-1 = use all\n",
    "NUM_Q      = 100\n",
    "START_Q    = -1\n",
    "END_Q      = 1\n",
    "N_GV       = 35\n",
    "gv = GV(N_GV).get_golden_vectors()\n",
    "Q_list = np.logspace(START_Q,END_Q,NUM_Q)\n",
    "\n",
    "import datetime\n",
    "print(datetime.datetime.now())"
   ]
  },
  {
   "cell_type": "code",
   "execution_count": null,
   "metadata": {
    "collapsed": false
   },
   "outputs": [],
   "source": [
    "from multiprocessing import Pool\n",
    "data_inputs = [0]*4\n",
    "coor=mol.coor()[startFrame:endFrame]\n",
    "num = len(coor[0])\n",
    "N_Q = 100\n",
    "def process_frame(frame):\n",
    "    I = np.zeros(len(Q_list))\n",
    "    for i,Q in enumerate(Q_list):\n",
    "        I_tmp = 0\n",
    "        for g in gv:\n",
    "            q=g*Q\n",
    "            cast_coor = cast_matrix(coor[frame],ffi)\n",
    "            cast_q = ffi.cast('double*',q.ctypes.data)\n",
    "            I_tmp += lib.sQ(cast_coor,cast_q,num,num)\n",
    "        I[i] = I_tmp/len(gv)\n",
    "    return I\n",
    "from functools import partial\n",
    "\n",
    "partial_frame = partial(process_frame,data_inputs)"
   ]
  },
  {
   "cell_type": "code",
   "execution_count": null,
   "metadata": {
    "collapsed": false
   },
   "outputs": [],
   "source": [
    "# Q_list = np.logspace(START_Q,END_Q,10)\n",
    "pool = Pool(processes=5)              # process per core\n",
    "frames = np.arange(600,1000,1)\n",
    "I_mp=pool.map(process_frame, frames)\n",
    "pickle.dump( I_mp, open( \"multiFrame-\"+str(NUM_Q)+\"-allFrames\", \"wb\" ) )\n",
    "print(datetime.datetime.now())"
   ]
  },
  {
   "cell_type": "code",
   "execution_count": null,
   "metadata": {
    "collapsed": false
   },
   "outputs": [],
   "source": [
    "plt.loglog(Q_list,I_mp[0],label='mp')\n",
    "a=pickle.load(open('/home/data/Outputs/2016-07-16_00-24/multiFrame-2-999_-1-1.6_250','rb'))\n",
    "Q_list = np.logspace(-1,1.6,250)\n",
    "plt.loglog(Q_list,a[990],label='Orig')\n",
    "plt.legend()"
   ]
  },
  {
   "cell_type": "markdown",
   "metadata": {
    "collapsed": true
   },
   "source": []
  },
  {
   "cell_type": "markdown",
   "metadata": {
    "collapsed": true
   },
   "source": [
    "# Debye no PBC"
   ]
  },
  {
   "cell_type": "code",
   "execution_count": null,
   "metadata": {
    "collapsed": true
   },
   "outputs": [],
   "source": [
    "def pairwise_numpy(X):\n",
    "    return np.sqrt(((X[:, None, :] - X) ** 2).sum(-1))"
   ]
  },
  {
   "cell_type": "code",
   "execution_count": null,
   "metadata": {
    "collapsed": false,
    "scrolled": true
   },
   "outputs": [],
   "source": [
    "def pairwise_numpy(X):\n",
    "    return np.sqrt(((X[:, None, :] - X) ** 2).sum(-1))\n",
    "import periodictable.cromermann as ptc\n",
    "coor = mol.coor()\n",
    "# pw = pairwise_numpy(coor)\n",
    "Q_list  = np.logspace(-1,1.6,250)\n",
    "I  = np.zeros_like(Q_list)\n",
    "sld  = np.square(ptc.fxrayatq('Ar',Q_list))\n",
    "for frame in xrange(990,997):\n",
    "    print(frame)\n",
    "    pw = pairwise_numpy(coor[frame])\n",
    "    for i,q in enumerate(Q_list):\n",
    "        if(i%100==0): print (i)\n",
    "        I[i] = np.nansum(np.sinc(q*pw))\n",
    "    plt.loglog(Q_list,I,alpha=.15)\n"
   ]
  },
  {
   "cell_type": "code",
   "execution_count": null,
   "metadata": {
    "collapsed": true
   },
   "outputs": [],
   "source": []
  },
  {
   "cell_type": "markdown",
   "metadata": {},
   "source": [
    "# All Numpy Exp?"
   ]
  },
  {
   "cell_type": "code",
   "execution_count": null,
   "metadata": {
    "collapsed": false
   },
   "outputs": [],
   "source": [
    "coor = mol.coor()[-2]\n",
    "i, j = np.triu_indices(len(coor), 1)\n",
    "# i,j=np.indices((len(coor),1))\n",
    "displacements = coor[i] - coor[j]\n",
    "print(displacements)"
   ]
  },
  {
   "cell_type": "code",
   "execution_count": null,
   "metadata": {
    "collapsed": false
   },
   "outputs": [],
   "source": [
    "i,j=np.indices((len(coor),1))\n",
    "len(coor[i]-coor[j])\n",
    "disp = np.zeros((len(coor),len(coor),3))\n",
    "for i in xrange(len(coor)):\n",
    "    for j in xrange(len(coor)):\n",
    "        disp[i][j] = coor[i]-coor[j]\n",
    "print()"
   ]
  },
  {
   "cell_type": "code",
   "execution_count": null,
   "metadata": {
    "collapsed": false
   },
   "outputs": [],
   "source": [
    "a=np.array([1,2])\n",
    "b=np.array([[11,12],[13,14],[13,14]])\n",
    "# print(np.dot(a,b))\n",
    "print(' ')\n",
    "print(np.inner(a,b))\n",
    "print(1*11+2*12)\n",
    "print(1*13+2*14)\n",
    "np.inner([2,4,5],disp).size\n",
    "print(np.inner([1,1,2],disp)[1])\n",
    "print(np.inner([1,1,2],disp[1]))\n",
    "print(np.inner([1,1,2],disp.reshape((2048**2,3))))"
   ]
  },
  {
   "cell_type": "code",
   "execution_count": null,
   "metadata": {
    "collapsed": false
   },
   "outputs": [],
   "source": [
    "tst = disp[0:5,0:5]\n",
    "# print(tst)\n",
    "# print(tst.shape)\n",
    "print(tst.reshape((25,3)))\n",
    "# print(tst.reshape((25,3)).shape)\n",
    "q=np.array([2,3,5])\n",
    "mult = np.inner([[1,1,1],[2,2,2],[3,3,3]],tst.reshape((25,3)))\n",
    "print(mult.shape)\n",
    "print(mult)\n",
    "# print(mult[5])\n",
    "print(np.sum(np.cos(mult)))\n",
    "print(np.sum(np.cos(mult[0]))+np.sum(np.cos(mult[1])))"
   ]
  },
  {
   "cell_type": "code",
   "execution_count": null,
   "metadata": {
    "collapsed": false
   },
   "outputs": [],
   "source": [
    "%%time\n",
    "import numexpr as ne\n",
    "Q_list = np.logspace(-1,.9,250)\n",
    "N_GV       = 35\n",
    "gv = GV(N_GV).get_golden_vectors()\n",
    "I_exp=np.zeros_like(Q_list)\n",
    "reshaped = disp.reshape((2048**2,3))*3.4\n",
    "# print(reshaped)\n",
    "dotted = np.inner(gv,reshaped)\n",
    "\n",
    "for i,Q in enumerate(Q_list):\n",
    "    if(i%10==0): print(i)\n",
    "    inner = dotted*Q\n",
    "    I_exp[i] += ne.evaluate(\"sum(cos(inner))\")\n",
    "#     I_exp[i] += np.sum(np.cos(dotted*Q))\n",
    "#     for g in gv:\n",
    "#         q = g*Q\n",
    "#         inner = np.inner(q,disp.reshape((2048**2,3)))\n",
    "#         I_exp[i] = ne.evaluate(\"sum(cos(inner))\")\n",
    "#         inner = np.inner(q,disp)\n",
    "#         for j in xrange(len(disp)):\n",
    "#             inner_=inner[j]\n",
    "            #I_exp[i] = np.sum(ne.evaluate(\"cos(inner)\"))#np.cos(np.inner(q,disp[j])))\n",
    "#             I_exp[i] += ne.evaluate(\"sum(cos(inner_))\")\n",
    "I_exp/=len(gv)\n",
    "print(I_exp)"
   ]
  },
  {
   "cell_type": "code",
   "execution_count": null,
   "metadata": {
    "collapsed": false
   },
   "outputs": [],
   "source": [
    "%%time\n",
    "coor = mol.coor()[-2]*3.4\n",
    "num = len(coor)\n",
    "I = np.zeros(len(Q_list))\n",
    "for i,Q in enumerate(Q_list):\n",
    "    if (i%5==0): print(i)\n",
    "    I_tmp = 0\n",
    "    for g in gv:\n",
    "        q=g*Q\n",
    "        cast_coor = cast_matrix(coor,ffi)\n",
    "        cast_q = ffi.cast('double*',q.ctypes.data)\n",
    "        I_tmp += lib.sQ(cast_coor,cast_q,num,num)\n",
    "    I[i] = I_tmp/len(gv)\n"
   ]
  },
  {
   "cell_type": "code",
   "execution_count": null,
   "metadata": {
    "collapsed": false
   },
   "outputs": [],
   "source": [
    "plt.loglog(Q_list,I,label='C',lw=5)\n",
    "plt.loglog(Q_list,I_exp,'k-',label = 'Pure Numpy',lw=2)\n",
    "plt.legend()\n",
    "plt.show()"
   ]
  },
  {
   "cell_type": "code",
   "execution_count": null,
   "metadata": {
    "collapsed": false
   },
   "outputs": [],
   "source": [
    "print(disp.shape)"
   ]
  },
  {
   "cell_type": "code",
   "execution_count": null,
   "metadata": {
    "collapsed": false
   },
   "outputs": [],
   "source": [
    "%timeit ne.evaluate(\"sum(cos(inner))\")"
   ]
  },
  {
   "cell_type": "code",
   "execution_count": null,
   "metadata": {
    "collapsed": false
   },
   "outputs": [],
   "source": [
    "%timeit np.sum(np.cos(inner))"
   ]
  },
  {
   "cell_type": "code",
   "execution_count": null,
   "metadata": {
    "collapsed": false
   },
   "outputs": [],
   "source": [
    "%%time\n",
    "import numexpr as ne\n",
    "len(disp[0])\n",
    "Q_list = np.logspace(-1,.5,20)\n",
    "N_GV       = 35\n",
    "gv = GV(N_GV).get_golden_vectors()\n",
    "I_exp_old=np.zeros_like(Q_list)\n",
    "for i,Q in enumerate(Q_list):\n",
    "    if(i%5==0): print(i)\n",
    "    for g in gv:\n",
    "        q = g*Q\n",
    "        inner = np.inner(q,disp*3.4)\n",
    "        for j in xrange(len(disp)):\n",
    "            inner_=inner[j]\n",
    "            #I_exp[i] = np.sum(ne.evaluate(\"cos(inner)\"))#np.cos(np.inner(q,disp[j])))\n",
    "            I_exp[i] += ne.evaluate(\"sum(cos(inner_))\")\n",
    "I_exp_old/=len(gv)\n",
    "print(I_exp_old)"
   ]
  },
  {
   "cell_type": "code",
   "execution_count": null,
   "metadata": {
    "collapsed": false
   },
   "outputs": [],
   "source": [
    "import numpy as np\n",
    "import numexpr as ne\n",
    "import sasmol.sasmol as sasmol\n",
    "mol = sasmol.SasMol(0)\n",
    "mol.read_pdb('Data/run_0.pdb')\n",
    "mol.read_dcd('Data/run_1.dcd')\n",
    "from GV import *\n",
    "\n",
    "coor = mol.coor()[900]\n",
    "Q_list = np.logspace(-1,1.6,50)\n",
    "N_GV       = 35\n",
    "gv = GV(N_GV).get_golden_vectors()\n",
    "\n",
    "disp = np.zeros((len(coor),len(coor),3))\n",
    "for i in xrange(len(coor)):\n",
    "    for j in xrange(len(coor)):\n",
    "        disp[i][j] = coor[i]-coor[j]\n"
   ]
  },
  {
   "cell_type": "code",
   "execution_count": null,
   "metadata": {
    "collapsed": false
   },
   "outputs": [],
   "source": [
    "\n",
    "def neTimeLoop():\n",
    "    Q=1\n",
    "    I_exp = 0\n",
    "    for g in gv:\n",
    "        q = g*Q\n",
    "        inner = np.inner(q,disp)\n",
    "        for j in xrange(len(disp)):\n",
    "            inner_=inner[j]\n",
    "            #I_exp[i] = np.sum(ne.evaluate(\"cos(inner)\"))#np.cos(np.inner(q,disp[j])))\n",
    "            I_exp += ne.evaluate(\"sum(cos(inner_))\")\n",
    "    return I_exp\n",
    "\n",
    "%timeit neTimeLoop()"
   ]
  },
  {
   "cell_type": "code",
   "execution_count": null,
   "metadata": {
    "collapsed": false
   },
   "outputs": [],
   "source": [
    "def neTimeLoop2():\n",
    "    Q=1\n",
    "    I_exp = 0\n",
    "    for g in gv:\n",
    "        q = g*Q\n",
    "        inner = np.inner(q,disp)\n",
    "        I_exp += ne.evaluate(\"sum(cos(inner))\")\n",
    "#         inner_=inner[5]\n",
    "#         for j in xrange(len(disp)):\n",
    "#             inner_=inner[j]\n",
    "            #I_exp[i] = np.sum(ne.evaluate(\"cos(inner)\"))#np.cos(np.inner(q,disp[j])))\n",
    "\n",
    "    return I_exp\n",
    "%timeit neTimeLoop2()"
   ]
  },
  {
   "cell_type": "code",
   "execution_count": null,
   "metadata": {
    "collapsed": false
   },
   "outputs": [],
   "source": [
    "def npTimeLoop(Q=1):\n",
    "    I_exp = 0\n",
    "    for g in gv:\n",
    "        q = g*Q\n",
    "        inner = np.inner(q,disp)\n",
    "        for j in xrange(len(disp)):\n",
    "            I_exp += np.sum(np.cos(inner[j]))\n",
    "    return I_exp\n",
    "%timeit npTimeLoop(1)"
   ]
  },
  {
   "cell_type": "code",
   "execution_count": null,
   "metadata": {
    "collapsed": false
   },
   "outputs": [],
   "source": [
    "def npTimeLoop2(Q=1):\n",
    "    I_exp = 0\n",
    "    for g in gv:\n",
    "        q = g*Q\n",
    "#         inner = np.inner(q,disp)\n",
    "        I_exp += np.sum(np.cos(np.inner(q,disp)))\n",
    "#         for j in xrange(len(disp)):\n",
    "#             I_exp += np.sum(np.cos(inner[j]))\n",
    "    return I_exp\n",
    "%timeit npTimeLoop2(1)"
   ]
  },
  {
   "cell_type": "code",
   "execution_count": null,
   "metadata": {
    "collapsed": false
   },
   "outputs": [],
   "source": [
    "from numba import jit\n",
    "@jit\n",
    "def npTimeLoopJit(Q=1):\n",
    "    I_exp = 0\n",
    "    for g in gv:\n",
    "        q = g*Q\n",
    "#         inner = np.inner(q,disp)\n",
    "        I_exp += np.sum(np.cos(np.inner(q,disp)))\n",
    "#         for j in xrange(len(disp)):\n",
    "#             I_exp += np.sum(np.cos(inner[j]))\n",
    "    return I_exp\n",
    "%timeit npTimeLoopJit(1)"
   ]
  },
  {
   "cell_type": "code",
   "execution_count": null,
   "metadata": {
    "collapsed": false
   },
   "outputs": [],
   "source": [
    "from _cLoops import ffi, lib\n",
    "def cast_matrix(matrix, ffi):\n",
    "    ap = ffi.new(\"double* [%d]\" % (matrix.shape[0]))\n",
    "    ptr = ffi.cast(\"double *\", matrix.ctypes.data)\n",
    "    for i in range(matrix.shape[0]):\n",
    "        ap[i] = ptr + i*matrix.shape[1]\n",
    "    return ap\n",
    "def cffiLoop(Q=1):\n",
    "    I_tmp = 0\n",
    "#     frame=900\n",
    "    num=len(coor)\n",
    "    for g in gv:\n",
    "        q=g*Q\n",
    "#         print(q)\n",
    "#         print(coor[frame])\n",
    "        cast_coor = cast_matrix(coor,ffi)\n",
    "        cast_q = ffi.cast('double*',q.ctypes.data)\n",
    "        I_tmp += lib.sQ(cast_coor,cast_q,num,num)\n",
    "    return I_tmp\n",
    "%timeit cffiLoop()"
   ]
  },
  {
   "cell_type": "code",
   "execution_count": null,
   "metadata": {
    "collapsed": false
   },
   "outputs": [],
   "source": [
    "def npTimeLoop2(Q=1):\n",
    "    I_exp = 0\n",
    "    for g in gv:\n",
    "        q = g*Q\n",
    "#         inner = np.inner(q,disp)\n",
    "        I_exp += np.sum(np.cos(np.inner(q,disp)))\n",
    "#         for j in xrange(len(disp)):\n",
    "#             I_exp += np.sum(np.cos(inner[j]))\n",
    "    return I_exp\n",
    "def npExp(Q):\n",
    "    I = 0\n",
    "    for g in gv:\n",
    "        q = g*Q\n",
    "        I += np.sum(np.cos(np.inner(q,disp)))\n",
    "    return I/len(gv)\n",
    "I_exp = np.zeros_like(Q_list)\n",
    "for i,Q in enumerate(Q_list):\n",
    "    if(i%5 ==0): print(i)\n",
    "    I_exp[i] = npExp(Q)"
   ]
  },
  {
   "cell_type": "code",
   "execution_count": null,
   "metadata": {
    "collapsed": true
   },
   "outputs": [],
   "source": [
    "%matplotlib inline\n",
    "import matplotlib.pyplot as plt\n",
    "import matplotlib as mpl\n",
    "plt.style.use('ggplot')\n",
    "mpl.rcParams['figure.figsize']=(16,9)\n",
    "mpl.rcParams['font.size']=20\n",
    "mpl.rcParams['axes.labelsize']=25\n",
    "mpl.rcParams['axes.titlesize']=25\n",
    "mpl.rcParams['figure.titlesize']=25"
   ]
  },
  {
   "cell_type": "code",
   "execution_count": null,
   "metadata": {
    "collapsed": false
   },
   "outputs": [],
   "source": [
    "plt.loglog(Q_list,I_exp,label='numpy Exp')\n",
    "plt.show()"
   ]
  },
  {
   "cell_type": "code",
   "execution_count": null,
   "metadata": {
    "collapsed": false
   },
   "outputs": [],
   "source": [
    "q=[.3,.1,.1]\n",
    "inner = np.inner(q,disp)\n",
    "print(inner)\n",
    "print('\\n\\n')\n",
    "print(np.sum(np.cos(inner)))\n",
    "print(' ')\n",
    "print(np.apply_along_axis)"
   ]
  },
  {
   "cell_type": "code",
   "execution_count": null,
   "metadata": {
    "collapsed": false
   },
   "outputs": [],
   "source": [
    "i, j = np.triu_indices(len(coor), 0)\n",
    "print(i,j)\n",
    "print(len(i))\n",
    "print(len(j))"
   ]
  },
  {
   "cell_type": "code",
   "execution_count": null,
   "metadata": {
    "collapsed": false
   },
   "outputs": [],
   "source": [
    "displacements"
   ]
  },
  {
   "cell_type": "code",
   "execution_count": null,
   "metadata": {
    "collapsed": false
   },
   "outputs": [],
   "source": [
    "Q_list = np.logspace(-1,1.6,25)\n",
    "I_exp =  np.zeros_like(Q_list)\n",
    "for i,Q in enumerate(Q_list):\n",
    "    if(i%25==0): print(i)\n",
    "    for g in gv:\n",
    "        q = g*Q\n",
    "        I_exp[i] += np.sum(np.cos(np.inner(q,displacements)))\n",
    "I_exp /= len(gv)\n",
    "plt.loglog(Q_list,I_exp)"
   ]
  },
  {
   "cell_type": "code",
   "execution_count": null,
   "metadata": {
    "collapsed": false
   },
   "outputs": [],
   "source": [
    "plt.loglog(Q_list,-I_exp)"
   ]
  },
  {
   "cell_type": "code",
   "execution_count": null,
   "metadata": {
    "collapsed": false
   },
   "outputs": [],
   "source": [
    "%timeit np.sum(np.cos(np.inner(q,displacements)))"
   ]
  },
  {
   "cell_type": "code",
   "execution_count": null,
   "metadata": {
    "collapsed": false
   },
   "outputs": [],
   "source": [
    "np.dot(q,np.transpose(displacements))"
   ]
  },
  {
   "cell_type": "code",
   "execution_count": null,
   "metadata": {
    "collapsed": false
   },
   "outputs": [],
   "source": [
    "Q_list"
   ]
  },
  {
   "cell_type": "code",
   "execution_count": null,
   "metadata": {
    "collapsed": false
   },
   "outputs": [],
   "source": [
    "print(type(np.mat(q)))"
   ]
  },
  {
   "cell_type": "code",
   "execution_count": null,
   "metadata": {
    "collapsed": false
   },
   "outputs": [],
   "source": [
    "q=np.array([1,2,3])\n",
    "disp  = np.array([[1,1,1],[2,2,2],[3,3,3],[3,3,3]])\n",
    "for i in displacements:\n",
    "    print(np.dot(q,i))"
   ]
  },
  {
   "cell_type": "code",
   "execution_count": null,
   "metadata": {
    "collapsed": false
   },
   "outputs": [],
   "source": [
    "np.inner(q,displacements)"
   ]
  },
  {
   "cell_type": "code",
   "execution_count": null,
   "metadata": {
    "collapsed": false
   },
   "outputs": [],
   "source": [
    "disp"
   ]
  },
  {
   "cell_type": "code",
   "execution_count": null,
   "metadata": {
    "collapsed": false
   },
   "outputs": [],
   "source": [
    "displacements"
   ]
  },
  {
   "cell_type": "code",
   "execution_count": null,
   "metadata": {
    "collapsed": false
   },
   "outputs": [],
   "source": [
    "np.dot(q,displacements)"
   ]
  },
  {
   "cell_type": "code",
   "execution_count": null,
   "metadata": {
    "collapsed": true
   },
   "outputs": [],
   "source": [
    "import numexpr as ne"
   ]
  },
  {
   "cell_type": "code",
   "execution_count": null,
   "metadata": {
    "collapsed": true
   },
   "outputs": [],
   "source": []
  }
 ],
 "metadata": {
  "kernelspec": {
   "display_name": "Python 2",
   "language": "python",
   "name": "python2"
  },
  "language_info": {
   "codemirror_mode": {
    "name": "ipython",
    "version": 2
   },
   "file_extension": ".py",
   "mimetype": "text/x-python",
   "name": "python",
   "nbconvert_exporter": "python",
   "pygments_lexer": "ipython2",
   "version": "2.7.11"
  }
 },
 "nbformat": 4,
 "nbformat_minor": 0
}
