{
 "cells": [
  {
   "cell_type": "code",
   "execution_count": null,
   "metadata": {
    "collapsed": true
   },
   "outputs": [],
   "source": [
    "import sasmol.sasmol as sasmol\n",
    "import numpy as np"
   ]
  },
  {
   "cell_type": "code",
   "execution_count": null,
   "metadata": {
    "collapsed": false
   },
   "outputs": [],
   "source": [
    "def create_pdb(coor, pdb_name=None, **kwargs):\n",
    "    \"\"\"\n",
    "    coor is an n_atoms x 3 array\n",
    "    create a pdb using coors\n",
    "    \"\"\"\n",
    "    coor = np.asanyarray(coor)\n",
    "    n_atoms = len(coor[0])\n",
    "    index = np.arange(n_atoms) + 1\n",
    "\n",
    "    create = sasmol.SasMol(0)\n",
    "    create.setAtom(['ATOM'] * n_atoms)\n",
    "    create.setIndex(index)\n",
    "    create.setName(['Ar'] * n_atoms)\n",
    "    create.setLoc([' '] * n_atoms)\n",
    "    create.setResname(['VDW'] * n_atoms)\n",
    "    create.setChain(['X'] * n_atoms)\n",
    "    create.setResid(np.ones(n_atoms, dtype=np.int))\n",
    "    create.setRescode([' '] * n_atoms)\n",
    "    create.setCoor(coor.reshape(1, n_atoms, 3))\n",
    "    create.setOccupancy(['1.00'] * n_atoms)\n",
    "    create.setBeta(['0.00'] * n_atoms)\n",
    "    create.setSegname(['{:04d}'.format(i) for i in index])\n",
    "    create.setElement(['Ar'] * n_atoms)\n",
    "    create.setCharge(['  '] * n_atoms)\n",
    "\n",
    "    if not pdb_name:\n",
    "        pdb_name = 'default_name.pdb'\n",
    "    create.write_pdb(pdb_name, 0, 'w')\n",
    "def position_molecule(coor, xyz_position):\n",
    "    \"\"\"\n",
    "    this function is designed to generate a modified version of the input\n",
    "    coordinates (coor3)\n",
    "    1) center the lysozyme pdb\n",
    "    2) store the centered lysozyme coordinates in a 4 vector, coor4 (1's in col_4)\n",
    "    3) generate a random rotation matrix, rotate\n",
    "    4) gererate translation matrix, translate (4x4 identity matrix, [3, :3] = [dx, dy, dz])\n",
    "    5) take the dot product of the rt=rotate.dot(translate)\n",
    "    6) transform the coordinates, coor4.dot(rt)\n",
    "    \"\"\"\n",
    "    import numpy\n",
    "    # 1)\n",
    "    coor = np.asanyarray(coor)\n",
    "    xyz_position = np.asanyarray(xyz_position)\n",
    "    n_atoms = len(coor)\n",
    "    # 2)\n",
    "    # initialize vector arrays for coordinates and orientation vectors\n",
    "    # changing them from 3 component vectors into 4 component vectors\n",
    "    # this incorporates transaltions into the matrix math\n",
    "\n",
    "    coor4 = numpy.ones((n_atoms, 4), dtype=numpy.float)\n",
    "    coor4[:, 0:3] = coor\n",
    "#     print(post_coor4)\n",
    "#     post_coor4[:, 0:3] = post_coor3\n",
    "\n",
    "    # 3)\n",
    "    # create the translation-rotation matrix\n",
    "    # This is intended to be multiplied from the right (unlike standard matrix\n",
    "    # multiplication) so as not to require transposing the coordinate vectors.\n",
    "    theta_xyz = numpy.random.random(3) * numpy.pi * 2 # radians\n",
    "\n",
    "    [cx, cy, cz] = numpy.cos(theta_xyz)\n",
    "    [sx, sy, sz] = numpy.sin(theta_xyz)\n",
    "\n",
    "    # initialize the rotation\n",
    "    # consolidated method of defining the rotation matrices\n",
    "    rotate = numpy.eye(4, dtype=numpy.float)\n",
    "    rotate[0][0:3] = [ cy*cz,          cy*sz,          -sy   ]\n",
    "    rotate[1][0:3] = [ sx*sy*cz-cx*sz, sx*sy*sz+cx*cz, sx*cy ]\n",
    "    rotate[2][0:3] = [ sx*sz+cx*sy*cz, cx*sy*sz-sx*cz, cx*cy ]\n",
    "\n",
    "    # 4)\n",
    "    translate = numpy.eye(4, dtype=numpy.float)\n",
    "    translate[3, :3] = xyz_position\n",
    "\n",
    "    # 5)\n",
    "    rt = rotate.dot(translate) # check that the resulting matrix should rotate, then translate coordinates\n",
    "\n",
    "    # 6)\n",
    "    coor4 = coor4.dot(rt) # check that this does as expected\n",
    "    return coor4[:, :3]\n"
   ]
  },
  {
   "cell_type": "code",
   "execution_count": null,
   "metadata": {
    "collapsed": false
   },
   "outputs": [],
   "source": [
    "#Load the lysozyme + center it\n",
    "mol = sasmol.SasMol(0)\n",
    "mol.read_pdb('/home/data/sascalc_pbc/pdbs/lysozyme_ca.pdb')\n",
    "mol.center(0)\n",
    "nLys = len(mol.coor()[0])\n",
    "\n",
    "#Load the lennard Jones pdb\n",
    "LJ_mol = sasmol.SasMol(0)\n",
    "LJ_mol.read_pdb('/home/data/sascalc_pbc/pdbs/run_0.pdb')\n",
    "LJ_mol.read_dcd('/home/data/sascalc_pbc/pdbs/run_1.dcd')\n",
    "LJ_coors = LJ_mol.coor()[-2]\n",
    "\n",
    "#Determine scaling factor so no overlap\n",
    "from scipy.spatial.distance import cdist\n",
    "fact = np.max(cdist(mol.coor()[0],mol.coor()[0]))/3.76 #3.76 Ar radius\n",
    "\n",
    "#Create and populate the output coords\n",
    "out_coors = np.zeros((1,len(LJ_coors)*len(mol.coor()[0]),3))\n",
    "for i,c in enumerate(LJ_coors):\n",
    "    out_coors[0][i*nLys: (i+1)*nLys] = position_molecule(mol.coor()[0],c*fact)\n",
    "    \n",
    "#create new pdb\n",
    "create_pdb(out_coors,pdb_name='/home/data/sascalc_pbc/pdbs/argLys.pdb')\n",
    "print(\"DONE\")"
   ]
  },
  {
   "cell_type": "code",
   "execution_count": null,
   "metadata": {
    "collapsed": true
   },
   "outputs": [],
   "source": []
  }
 ],
 "metadata": {
  "kernelspec": {
   "display_name": "Python 2",
   "language": "python",
   "name": "python2"
  },
  "language_info": {
   "codemirror_mode": {
    "name": "ipython",
    "version": 2
   },
   "file_extension": ".py",
   "mimetype": "text/x-python",
   "name": "python",
   "nbconvert_exporter": "python",
   "pygments_lexer": "ipython2",
   "version": "2.7.11"
  }
 },
 "nbformat": 4,
 "nbformat_minor": 0
}
